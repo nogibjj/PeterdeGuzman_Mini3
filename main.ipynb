{
 "cells": [
  {
   "cell_type": "markdown",
   "metadata": {},
   "source": [
    "## Age Analysis of Members of the 113th Congress of the United States\n",
    "\n",
    "### Introduction\n",
    "\n",
    "This project uses the Python Polars package to analyze data of U.S. Congressional Members. Functions are created to read in this data as a Polars DataFrame, calculate the mean, median, and standard deviation of age, and to plot the distribution of age by Congress. \n",
    "\n",
    "Data was accessed from the following GitHub repository: https://github.com/fivethirtyeight/data/blob/master/congress-age/congress-terms.csv"
   ]
  },
  {
   "cell_type": "markdown",
   "metadata": {},
   "source": [
    "### Descriptive Statistics"
   ]
  },
  {
   "cell_type": "code",
   "execution_count": 9,
   "metadata": {},
   "outputs": [],
   "source": [
    "# import packages\n",
    "import polars as pl\n",
    "import matplotlib.pyplot as plt\n",
    "import os"
   ]
  },
  {
   "cell_type": "code",
   "execution_count": 10,
   "metadata": {},
   "outputs": [
    {
     "data": {
      "text/html": [
       "<div><style>\n",
       ".dataframe > thead > tr,\n",
       ".dataframe > tbody > tr {\n",
       "  text-align: right;\n",
       "  white-space: pre-wrap;\n",
       "}\n",
       "</style>\n",
       "<small>shape: (5, 13)</small><table border=\"1\" class=\"dataframe\"><thead><tr><th>congress</th><th>chamber</th><th>bioguide</th><th>firstname</th><th>middlename</th><th>lastname</th><th>suffix</th><th>birthday</th><th>state</th><th>party</th><th>incumbent</th><th>termstart</th><th>age</th></tr><tr><td>i64</td><td>str</td><td>str</td><td>str</td><td>str</td><td>str</td><td>str</td><td>str</td><td>str</td><td>str</td><td>str</td><td>str</td><td>f64</td></tr></thead><tbody><tr><td>80</td><td>&quot;house&quot;</td><td>&quot;M000112&quot;</td><td>&quot;Joseph&quot;</td><td>&quot;Jefferson&quot;</td><td>&quot;Mansfield&quot;</td><td>null</td><td>&quot;1861-02-09&quot;</td><td>&quot;TX&quot;</td><td>&quot;D&quot;</td><td>&quot;Yes&quot;</td><td>&quot;1947-01-03&quot;</td><td>85.9</td></tr><tr><td>80</td><td>&quot;house&quot;</td><td>&quot;D000448&quot;</td><td>&quot;Robert&quot;</td><td>&quot;Lee&quot;</td><td>&quot;Doughton&quot;</td><td>null</td><td>&quot;1863-11-07&quot;</td><td>&quot;NC&quot;</td><td>&quot;D&quot;</td><td>&quot;Yes&quot;</td><td>&quot;1947-01-03&quot;</td><td>83.2</td></tr><tr><td>80</td><td>&quot;house&quot;</td><td>&quot;S000001&quot;</td><td>&quot;Adolph&quot;</td><td>&quot;Joachim&quot;</td><td>&quot;Sabath&quot;</td><td>null</td><td>&quot;1866-04-04&quot;</td><td>&quot;IL&quot;</td><td>&quot;D&quot;</td><td>&quot;Yes&quot;</td><td>&quot;1947-01-03&quot;</td><td>80.7</td></tr><tr><td>80</td><td>&quot;house&quot;</td><td>&quot;E000023&quot;</td><td>&quot;Charles&quot;</td><td>&quot;Aubrey&quot;</td><td>&quot;Eaton&quot;</td><td>null</td><td>&quot;1868-03-29&quot;</td><td>&quot;NJ&quot;</td><td>&quot;R&quot;</td><td>&quot;Yes&quot;</td><td>&quot;1947-01-03&quot;</td><td>78.8</td></tr><tr><td>80</td><td>&quot;house&quot;</td><td>&quot;L000296&quot;</td><td>&quot;William&quot;</td><td>null</td><td>&quot;Lewis&quot;</td><td>null</td><td>&quot;1868-09-22&quot;</td><td>&quot;KY&quot;</td><td>&quot;R&quot;</td><td>&quot;No&quot;</td><td>&quot;1947-01-03&quot;</td><td>78.3</td></tr></tbody></table></div>"
      ],
      "text/plain": [
       "shape: (5, 13)\n",
       "┌──────────┬─────────┬──────────┬───────────┬───┬───────┬───────────┬────────────┬──────┐\n",
       "│ congress ┆ chamber ┆ bioguide ┆ firstname ┆ … ┆ party ┆ incumbent ┆ termstart  ┆ age  │\n",
       "│ ---      ┆ ---     ┆ ---      ┆ ---       ┆   ┆ ---   ┆ ---       ┆ ---        ┆ ---  │\n",
       "│ i64      ┆ str     ┆ str      ┆ str       ┆   ┆ str   ┆ str       ┆ str        ┆ f64  │\n",
       "╞══════════╪═════════╪══════════╪═══════════╪═══╪═══════╪═══════════╪════════════╪══════╡\n",
       "│ 80       ┆ house   ┆ M000112  ┆ Joseph    ┆ … ┆ D     ┆ Yes       ┆ 1947-01-03 ┆ 85.9 │\n",
       "│ 80       ┆ house   ┆ D000448  ┆ Robert    ┆ … ┆ D     ┆ Yes       ┆ 1947-01-03 ┆ 83.2 │\n",
       "│ 80       ┆ house   ┆ S000001  ┆ Adolph    ┆ … ┆ D     ┆ Yes       ┆ 1947-01-03 ┆ 80.7 │\n",
       "│ 80       ┆ house   ┆ E000023  ┆ Charles   ┆ … ┆ R     ┆ Yes       ┆ 1947-01-03 ┆ 78.8 │\n",
       "│ 80       ┆ house   ┆ L000296  ┆ William   ┆ … ┆ R     ┆ No        ┆ 1947-01-03 ┆ 78.3 │\n",
       "└──────────┴─────────┴──────────┴───────────┴───┴───────┴───────────┴────────────┴──────┘"
      ]
     },
     "execution_count": 10,
     "metadata": {},
     "output_type": "execute_result"
    }
   ],
   "source": [
    "# Define Function to Read in Data from Github URL\n",
    "\n",
    "\n",
    "def read_congressdata(url):\n",
    "    return pl.read_csv(url, has_header=True, truncate_ragged_lines=True)\n",
    "\n",
    "\n",
    "# Load Data\n",
    "url = \"https://github.com/fivethirtyeight/data/blob/master/congress-age/congress-terms.csv?raw=true\"\n",
    "df = read_congressdata(url)\n",
    "df.head()"
   ]
  },
  {
   "cell_type": "code",
   "execution_count": 7,
   "metadata": {},
   "outputs": [
    {
     "name": "stdout",
     "output_type": "stream",
     "text": [
      "shape: (4, 2)\n",
      "┌────────────────────────────────┬─────────────────┐\n",
      "│ Statistic                      ┆ Value (Rounded) │\n",
      "│ ---                            ┆ ---             │\n",
      "│ str                            ┆ f64             │\n",
      "╞════════════════════════════════╪═════════════════╡\n",
      "│ Mean Age                       ┆ 53.31           │\n",
      "│ Median Age                     ┆ 53.0            │\n",
      "│ Standard Deviation of Age      ┆ 10.68           │\n",
      "│ Count of Congressional Members ┆ 18635.0         │\n",
      "└────────────────────────────────┴─────────────────┘\n"
     ]
    }
   ],
   "source": [
    "# Define Functions to Calculate Mean, Median, and Standard Deviation of Age\n",
    "def mean_age(df):\n",
    "    # calculate mean of column with \"age\" in it\n",
    "    age_column = [col for col in df.columns if \"age\" in col]\n",
    "    if age_column:\n",
    "        # Assuming there's onlmeany one age column in NC voter file data\n",
    "        column_name = age_column[0]\n",
    "        # Calculate the mean of the identified column\n",
    "        result = df[column_name].mean()\n",
    "        return result\n",
    "    else:\n",
    "        result = print(\"No column containing 'age' found.\")\n",
    "    return result\n",
    "\n",
    "\n",
    "def median_age(df):\n",
    "    # calculate median of column with \"age\" in it\n",
    "    age_column = [col for col in df.columns if \"age\" in col]\n",
    "    if age_column:\n",
    "        # Assuming there's only one age column in NC voter file data\n",
    "        column_name = age_column[0]\n",
    "        # Calculate the mean of the identified column\n",
    "        result = df[column_name].median()\n",
    "        return result\n",
    "    else:\n",
    "        result = print(\"No column containing 'age' found.\")\n",
    "    return result\n",
    "\n",
    "\n",
    "def std_age(df):\n",
    "    # calculate standard deviation of column with \"age\" in it\n",
    "    age_column = [col for col in df.columns if \"age\" in col]\n",
    "    if age_column:\n",
    "        # Assuming there's only one age column in NC voter file data\n",
    "        column_name = age_column[0]\n",
    "        # Calculate the mean of the identified column\n",
    "        result = df[column_name].std()\n",
    "        return result\n",
    "    else:\n",
    "        result = print(\"No column containing 'age' found.\")\n",
    "    return result\n",
    "\n",
    "\n",
    "# Calculate Mean, Median, and Standard Deviation\n",
    "summary = {\n",
    "    \"Statistic\": [\n",
    "        \"Mean Age\",\n",
    "        \"Median Age\",\n",
    "        \"Standard Deviation of Age\",\n",
    "        \"Count of Congressional Members\",\n",
    "    ],\n",
    "    \"Value (Rounded)\": [\n",
    "        round(mean_age(df), 2),\n",
    "        round(median_age(df), 2),\n",
    "        round(std_age(df), 2),\n",
    "        round(len(df), 2),\n",
    "    ],\n",
    "}\n",
    "# Create DataFrame\n",
    "summarydf = pl.DataFrame(summary)\n",
    "print(summarydf)"
   ]
  },
  {
   "cell_type": "markdown",
   "metadata": {},
   "source": [
    "### Data Visualization\n",
    "\n",
    "To visualize the distribution of age among U.S. Congressional members for a specific Congress, we use a histogram created with the matplotlib Python package. "
   ]
  },
  {
   "cell_type": "code",
   "execution_count": 8,
   "metadata": {},
   "outputs": [
    {
     "data": {
      "image/png": "[encoded data removed]",
      "text/plain": [
       "<Figure size 1000x600 with 1 Axes>"
      ]
     },
     "metadata": {},
     "output_type": "display_data"
    }
   ],
   "source": [
    "def generate_hist_member_age_bycongress(df, congress, plot_name):\n",
    "    # create a histogram of ages for Congressional Members\n",
    "    # as filtered for a specific Congress\n",
    "    congress_df = df.filter(pl.col(\"congress\") == congress)\n",
    "    plt.figure(figsize=(10, 6))\n",
    "    plt.hist(congress_df[\"age\"], bins=20, color=\"orange\", edgecolor=\"black\")\n",
    "    plt.title(f\"Age Distribution of Congress Members for the {congress:.0f}th Congress\")\n",
    "    plt.xlabel(\"Age\")\n",
    "    plt.ylabel(\"Frequency\")\n",
    "    subfolder = \"Output Images\"\n",
    "    file_path = os.path.join(subfolder, plot_name)\n",
    "    plt.savefig(file_path)\n",
    "    plt.show()\n",
    "\n",
    "\n",
    "generate_hist_member_age_bycongress(df, 113, \"113th_congress\")"
   ]
  },
  {
   "cell_type": "markdown",
   "metadata": {},
   "source": [
    "### Conclusion\n",
    "\n",
    "In this project, we used the Python Polars package to calculate summary statistics and create a simple histogram. \n",
    "Further analysis of U.S Congressional members by demographic characteristics and socioeconomic background may help us better understand the barriers to elected office that some communities may face.\n",
    "\n",
    "\n"
   ]
  }
 ],
 "metadata": {
  "kernelspec": {
   "display_name": "base",
   "language": "python",
   "name": "python3"
  },
  "language_info": {
   "codemirror_mode": {
    "name": "ipython",
    "version": 3
   },
   "file_extension": ".py",
   "mimetype": "text/x-python",
   "name": "python",
   "nbconvert_exporter": "python",
   "pygments_lexer": "ipython3",
   "version": "3.12.5"
  }
 },
 "nbformat": 4,
 "nbformat_minor": 2
}
